{
 "cells": [
  {
   "cell_type": "markdown",
   "metadata": {},
   "source": [
    "Board will be imported. Imagine a stack of 2D arrays, these will update with a for loop!\n"
   ]
  },
  {
   "cell_type": "code",
   "execution_count": null,
   "metadata": {
    "collapsed": true
   },
   "outputs": [],
   "source": [
    "import numpy as np\n",
    "import numpy.random as rand\n",
    "% matplotlib inline\n",
    "import matplotlib.pyplot as plt\n",
    "\n",
    "# Next we are going to import some specific libraries we will use to get the animation to work cleanly\n",
    "from IPython.display import display, clear_output\n",
    "import time  \n",
    "\n",
    "from PIL import Image"
   ]
  },
  {
   "cell_type": "code",
   "execution_count": null,
   "metadata": {
    "collapsed": true
   },
   "outputs": [],
   "source": []
  },
  {
   "cell_type": "code",
   "execution_count": null,
   "metadata": {
    "collapsed": true
   },
   "outputs": [],
   "source": []
  },
  {
   "cell_type": "code",
   "execution_count": null,
   "metadata": {
    "collapsed": true
   },
   "outputs": [],
   "source": [
    "\n",
    "green = Image.open(\"server/pixel2.png\")  #rename to image"
   ]
  },
  {
   "cell_type": "code",
   "execution_count": null,
   "metadata": {},
   "outputs": [],
   "source": [
    "threshold = 70  #Minimum green value for a space to be burnable\n",
    "\n",
    "GREEN = (0,1,0)\n",
    "RED = (1,0,0)\n",
    "BLACK = (0,0,0)\n",
    "\n",
    "colorvector = np.vectorize(lambda g: 0 if g < threshold else g)\n",
    "greenlayer = np.array(green)[:,:,1]\n",
    "burnable = colorvector(greenlayer)\n",
    "print(burnable)\n",
    "\n",
    "# gb = np.zeros((green.size[0], green.size[1],3))\n",
    "# for x in range(green.size[0]):\n",
    "#     for y in range(green.size[1]):\n",
    "#         r, g, b = green.getpixel((x,y))\n",
    "#         gb[x, y] = (0, int(g<threshold), 0)\n",
    "        \n",
    "# gb = np.rot90(gb)\n"
   ]
  },
  {
   "cell_type": "code",
   "execution_count": null,
   "metadata": {},
   "outputs": [],
   "source": [
    "# Function plotgrid() does what?? I believe it was to build an array the random number generators would populate\n",
    "\n",
    "def plotgrid(myarray):\n",
    "    \n",
    "    plt.imshow(myarray)\n",
    "    # \n",
    "    plt.ylim([0,myarray.shape[0]]) \n",
    "    plt.xlim([0,myarray.shape[1]])  #Defines the edges of our board\n",
    "\n",
    "    # \n",
    "    plt.tick_params(axis='both', which='both',  #I believe this is stylistic editing\n",
    "                    bottom='off', top='off', left='off', right='off',\n",
    "                    labelbottom='off', labelleft='off')\n",
    "    print(myarray)\n",
    "    \n",
    "plotgrid(greenlayer)"
   ]
  },
  {
   "cell_type": "code",
   "execution_count": null,
   "metadata": {
    "collapsed": true
   },
   "outputs": [],
   "source": [
    "def advance_board(game_board):\n",
    "    '''\n",
    "    Advances the game board using the given rules.\n",
    "    Input: the initial game board.\n",
    "    Output: the advanced game board\n",
    "    '''\n",
    "    \n",
    "    # create a new array that's just like the original one, but initially set to all zeros (i.e., totally empty)\n",
    "    new_board = np.zeros_like(game_board)\n",
    "    \n",
    "    # loop over each cell in the board and decide what to do.\n",
    "    # You'll need two loops here, one nested inside the other.\n",
    "    for x in range(game_board.shape[0]):\n",
    "        for y in range(game_board.shape[1]):\n",
    "            \n",
    "            # Check for each pixel to equal to the pixel constants\n",
    "            if(np.array_equal(game_board[x,y],BLACK)):\n",
    "                new_board[x,y] == BLACK\n",
    "                \n",
    "            if(np.array_equal(game_board[x,y],RED)):\n",
    "                new_board[x,y] == BLACK\n",
    "                \n",
    "            if(np.array_equal(game_board[x,y],GREEN)):\n",
    "                new_board[x,y] = GREEN\n",
    "                \n",
    "                if x > 0:\n",
    "\n",
    "                    if(np.array_equal(game_board[x-1,y] == RED)):\n",
    "\n",
    "                        new_board[x,y] = RED\n",
    "                        \n",
    "                        \n",
    "\n",
    "                if y > 0:\n",
    "\n",
    "                    if(np.array_equal(game_board[x,y-1],RED)):\n",
    "\n",
    "                        new_board[x,y] = RED\n",
    "\n",
    "                if x < game_board.shape[0]-1:\n",
    "\n",
    "                    if(np.array_equal(game_board[x+1,y],RED)):\n",
    "\n",
    "                        new_board[x,y] = RED\n",
    "\n",
    "                        \n",
    "\n",
    "                if y < game_board.shape[1]-1:                    \n",
    "\n",
    "                    if(np.array_equal(game_board[x,y+1],RED)):\n",
    "\n",
    "                        new_board[x,y] = RED\n",
    "                \n",
    "            \n",
    "    \n",
    "            # Now that we're inside the loops we need to apply our rules\n",
    "        \n",
    "            # if the cell was empty last turn, it's still empty.\n",
    "            # if it was on fire last turn, it's now empty.\n",
    "            \n",
    "    \n",
    "            # now, if there is a tree in the cell, we have to decide what to do\n",
    "            \n",
    "                \n",
    "                # initially make the cell a tree in the new board\n",
    "                \n",
    "\n",
    "                # If one of the neighboring cells was on fire last turn, \n",
    "                # this cell is now on fire!\n",
    "                # (make sure you account for whether or not you're on the edge!)\n",
    "                \n",
    "\n",
    "    # return the new board\n",
    "    return new_board"
   ]
  },
  {
   "cell_type": "code",
   "execution_count": null,
   "metadata": {
    "collapsed": true
   },
   "outputs": [],
   "source": []
  },
  {
   "cell_type": "code",
   "execution_count": 41,
   "metadata": {},
   "outputs": [
    {
     "ename": "TypeError",
     "evalue": "array_equal() missing 1 required positional argument: 'a2'",
     "output_type": "error",
     "traceback": [
      "\u001b[1;31m---------------------------------------------------------------------------\u001b[0m",
      "\u001b[1;31mTypeError\u001b[0m                                 Traceback (most recent call last)",
      "\u001b[1;32m<ipython-input-41-4b4e204ccae6>\u001b[0m in \u001b[0;36m<module>\u001b[1;34m()\u001b[0m\n\u001b[0;32m     20\u001b[0m     \u001b[1;31m#\u001b[0m\u001b[1;33m\u001b[0m\u001b[1;33m\u001b[0m\u001b[0m\n\u001b[0;32m     21\u001b[0m     \u001b[0mboard_size\u001b[0m \u001b[1;33m=\u001b[0m \u001b[1;36m50\u001b[0m\u001b[1;33m\u001b[0m\u001b[0m\n\u001b[1;32m---> 22\u001b[1;33m     \u001b[0mgame_board\u001b[0m \u001b[1;33m=\u001b[0m \u001b[0madvance_board\u001b[0m\u001b[1;33m(\u001b[0m\u001b[0mgame_board\u001b[0m\u001b[1;33m)\u001b[0m\u001b[1;33m\u001b[0m\u001b[0m\n\u001b[0m\u001b[0;32m     23\u001b[0m \u001b[1;33m\u001b[0m\u001b[0m\n\u001b[0;32m     24\u001b[0m     \u001b[1;31m#\u001b[0m\u001b[1;33m\u001b[0m\u001b[1;33m\u001b[0m\u001b[0m\n",
      "\u001b[1;32m<ipython-input-22-6e6188e6deed>\u001b[0m in \u001b[0;36madvance_board\u001b[1;34m(game_board)\u001b[0m\n\u001b[0;32m     26\u001b[0m                 \u001b[1;32mif\u001b[0m \u001b[0mx\u001b[0m \u001b[1;33m>\u001b[0m \u001b[1;36m0\u001b[0m\u001b[1;33m:\u001b[0m\u001b[1;33m\u001b[0m\u001b[0m\n\u001b[0;32m     27\u001b[0m \u001b[1;33m\u001b[0m\u001b[0m\n\u001b[1;32m---> 28\u001b[1;33m                     \u001b[1;32mif\u001b[0m\u001b[1;33m(\u001b[0m\u001b[0mnp\u001b[0m\u001b[1;33m.\u001b[0m\u001b[0marray_equal\u001b[0m\u001b[1;33m(\u001b[0m\u001b[0mgame_board\u001b[0m\u001b[1;33m[\u001b[0m\u001b[0mx\u001b[0m\u001b[1;33m-\u001b[0m\u001b[1;36m1\u001b[0m\u001b[1;33m,\u001b[0m\u001b[0my\u001b[0m\u001b[1;33m]\u001b[0m \u001b[1;33m==\u001b[0m \u001b[0mRED\u001b[0m\u001b[1;33m)\u001b[0m\u001b[1;33m)\u001b[0m\u001b[1;33m:\u001b[0m\u001b[1;33m\u001b[0m\u001b[0m\n\u001b[0m\u001b[0;32m     29\u001b[0m \u001b[1;33m\u001b[0m\u001b[0m\n\u001b[0;32m     30\u001b[0m                         \u001b[0mnew_board\u001b[0m\u001b[1;33m[\u001b[0m\u001b[0mx\u001b[0m\u001b[1;33m,\u001b[0m\u001b[0my\u001b[0m\u001b[1;33m]\u001b[0m \u001b[1;33m=\u001b[0m \u001b[0mRED\u001b[0m\u001b[1;33m\u001b[0m\u001b[0m\n",
      "\u001b[1;31mTypeError\u001b[0m: array_equal() missing 1 required positional argument: 'a2'"
     ]
    },
    {
     "data": {
      "image/png": "[encoded data removed]",
      "text/plain": [
       "<matplotlib.figure.Figure at 0x4c24a64940>"
      ]
     },
     "metadata": {},
     "output_type": "display_data"
    }
   ],
   "source": [
    "# \n",
    "prob_tree=0.6\n",
    "board_size = 50\n",
    "\n",
    "#\n",
    "fig = plt.figure(figsize=(10,10))\n",
    "\n",
    "# \n",
    "game_board = gb\n",
    "gb[0] = [RED]*(len(gb[1]))\n",
    "# \n",
    "plotgrid(game_board)\n",
    "\n",
    "# \n",
    "on_fire = True\n",
    "\n",
    "# Use a lovely for loop instead of a while loop\n",
    "for i in range(100):\n",
    "\n",
    "    # \n",
    "    board_size = 50\n",
    "    game_board = advance_board(game_board)\n",
    "    \n",
    "    # \n",
    "    plotgrid(game_board)\n",
    "    time.sleep(0.05)  # \n",
    "    clear_output(wait=True)\n",
    "    display(fig)\n",
    "    fig.clear()\n",
    "\n",
    "    # \n",
    "\n",
    "\n",
    "    # \n",
    "\n",
    "\n",
    "# \n",
    "plt.close()               "
   ]
  },
  {
   "cell_type": "code",
   "execution_count": null,
   "metadata": {
    "collapsed": true
   },
   "outputs": [],
   "source": []
  },
  {
   "cell_type": "code",
   "execution_count": null,
   "metadata": {
    "collapsed": true
   },
   "outputs": [],
   "source": []
  }
 ],
 "metadata": {
  "kernelspec": {
   "display_name": "Python 3",
   "language": "python",
   "name": "python3"
  },
  "language_info": {
   "codemirror_mode": {
    "name": "ipython",
    "version": 3
   },
   "file_extension": ".py",
   "mimetype": "text/x-python",
   "name": "python",
   "nbconvert_exporter": "python",
   "pygments_lexer": "ipython3",
   "version": "3.6.1"
  }
 },
 "nbformat": 4,
 "nbformat_minor": 2
}
