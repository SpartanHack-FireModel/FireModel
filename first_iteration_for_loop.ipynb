{
 "cells": [
  {
   "cell_type": "markdown",
   "metadata": {},
   "source": [
    "Board will be imported. Imagine a stack of 2D arrays, these will update with a while loop!\n"
   ]
  },
  {
   "cell_type": "code",
   "execution_count": 1,
   "metadata": {
    "collapsed": true
   },
   "outputs": [],
   "source": [
    "import numpy as np\n",
    "import numpy.random as rand\n",
    "% matplotlib inline\n",
    "import matplotlib.pyplot as plt\n",
    "\n",
    "# Next we are going to import some specific libraries we will use to get the animation to work cleanly\n",
    "from IPython.display import display, clear_output\n",
    "import time  "
   ]
  },
  {
   "cell_type": "code",
   "execution_count": 2,
   "metadata": {
    "collapsed": true
   },
   "outputs": [],
   "source": [
    "# Function plotgrid() does what??\n",
    "\n",
    "def plotgrid(myarray):\n",
    "    \n",
    "    # \n",
    "    x_range = np.linspace(0, myarray.shape[0], myarray.shape[0]) #Defines our x and y arrays\n",
    "    y_range = np.linspace(0, myarray.shape[0], myarray.shape[0])\n",
    "    \n",
    "    # \n",
    "    x_indexes, y_indexes = np.meshgrid(x_range, y_range)  #Makes a grid of the two arrays\n",
    "    \n",
    "    # \n",
    "    tree_x = x_indexes[myarray == 1];   \n",
    "    tree_y = y_indexes[myarray == 1]; \n",
    "    fire_x = x_indexes[myarray == 2];   #Defines tree and fire, both for the y-axis and x-axis\n",
    "    fire_y = y_indexes[myarray == 2]; \n",
    "    \n",
    "    # \n",
    "    plt.plot(tree_x,tree_y, 'gs',markersize=10)   #Sets the symbols for trees and for fire\n",
    "    plt.plot(fire_x,fire_y, 'rs',markersize=10)  \n",
    "    \n",
    "    # \n",
    "    plt.ylim([-1,myarray.shape[0]+1]) \n",
    "    plt.xlim([-1,myarray.shape[0]+1])  #Defines the edges of our board\n",
    "\n",
    "    # \n",
    "    plt.tick_params(axis='both', which='both',  #I believe this is stylistic editing\n",
    "                    bottom='off', top='off', left='off', right='off',\n",
    "                    labelbottom='off', labelleft='off')"
   ]
  },
  {
   "cell_type": "code",
   "execution_count": 3,
   "metadata": {
    "collapsed": true
   },
   "outputs": [],
   "source": [
    "def set_board(board_size=50,prob_tree=0.5):\n",
    "    '''\n",
    "    Creates the initial game board.\n",
    "\n",
    "    Inputs:\n",
    "        board_size: length of one edge of the board\n",
    "        prob_tree: probability that a given cell is a tree.\n",
    "\n",
    "     a 2DOutputs numpy array with values set to either 0, 1, or 2\n",
    "        (empty, tree, or fire)\n",
    "    '''\n",
    "    \n",
    "    # all cells initialized to 'empty' (0) by default\n",
    "    game_board = np.zeros((board_size,board_size),dtype='int64')\n",
    "    \n",
    "    # loop over board and roll the dice; if the random number is less\n",
    "    # than prob_tree, make it a tree.\n",
    "    for i in range(board_size):\n",
    "        for j in range(board_size):\n",
    "            if rand.random() <= prob_tree:\n",
    "                game_board[i,j] = 1\n",
    "\n",
    "    # set the whole left edge of the board on fire. We're arsonists!\n",
    "    game_board[:,0] = 2\n",
    "    \n",
    "    return game_board"
   ]
  },
  {
   "cell_type": "code",
   "execution_count": 4,
   "metadata": {},
   "outputs": [
    {
     "data": {
      "image/png": "[encoded data removed]",
      "text/plain": [
       "<matplotlib.figure.Figure at 0x114dcc58d0>"
      ]
     },
     "metadata": {},
     "output_type": "display_data"
    }
   ],
   "source": [
    "fig = plt.figure(figsize=(10,10))\n",
    "plotgrid(set_board(board_size=50,prob_tree=0.5))"
   ]
  },
  {
   "cell_type": "code",
   "execution_count": 5,
   "metadata": {
    "collapsed": true
   },
   "outputs": [],
   "source": [
    "def advance_board(game_board,board_size):\n",
    "    '''\n",
    "    Advances the game board using the given rules.\n",
    "    Input: the initial game board.\n",
    "    Output: the advanced game board\n",
    "    '''\n",
    "    \n",
    "    # create a new array that's just like the original one, but initially set to all zeros (i.e., totally empty)\n",
    "    new_board = np.zeros_like(game_board)\n",
    "    \n",
    "    # loop over each cell in the board and decide what to do.\n",
    "    # You'll need two loops here, one nested inside the other.\n",
    "    for x in range(board_size):\n",
    "        for y in range(board_size):\n",
    "            \n",
    "            if game_board[x,y] == 0:\n",
    "                new_board[x,y] == 0\n",
    "                \n",
    "            if game_board[x,y] == 2:\n",
    "                new_board[x,y] == 0\n",
    "                \n",
    "            if game_board[x,y] == 1:\n",
    "                new_board[x,y] = 1\n",
    "                \n",
    "                if x > 0:\n",
    "\n",
    "                    if game_board[x-1,y] == 2:\n",
    "\n",
    "                        new_board[x,y] = 2\n",
    "\n",
    "                    \n",
    "\n",
    "                if y > 0:\n",
    "\n",
    "                    if game_board[x,y-1] == 2:\n",
    "\n",
    "                        new_board[x,y] = 2\n",
    "\n",
    "                if x < game_board.shape[0]-1:\n",
    "\n",
    "                    if game_board[x+1,y] == 2:\n",
    "\n",
    "                        new_board[x,y] = 2\n",
    "\n",
    "                        \n",
    "\n",
    "                if y < game_board.shape[1]-1:                    \n",
    "\n",
    "                    if game_board[x,y+1] == 2:\n",
    "\n",
    "                        new_board[x,y] = 2\n",
    "                \n",
    "            \n",
    "    \n",
    "            # Now that we're inside the loops we need to apply our rules\n",
    "        \n",
    "            # if the cell was empty last turn, it's still empty.\n",
    "            # if it was on fire last turn, it's now empty.\n",
    "            \n",
    "    \n",
    "            # now, if there is a tree in the cell, we have to decide what to do\n",
    "            \n",
    "                \n",
    "                # initially make the cell a tree in the new board\n",
    "                \n",
    "\n",
    "                # If one of the neighboring cells was on fire last turn, \n",
    "                # this cell is now on fire!\n",
    "                # (make sure you account for whether or not you're on the edge!)\n",
    "                \n",
    "\n",
    "    # return the new board\n",
    "    return new_board"
   ]
  },
  {
   "cell_type": "code",
   "execution_count": null,
   "metadata": {},
   "outputs": [],
   "source": []
  },
  {
   "cell_type": "code",
   "execution_count": 6,
   "metadata": {},
   "outputs": [
    {
     "data": {
      "image/png": "[encoded data removed]",
      "text/plain": [
       "<matplotlib.figure.Figure at 0x114de23b00>"
      ]
     },
     "metadata": {},
     "output_type": "display_data"
    }
   ],
   "source": [
    "# \n",
    "prob_tree=0.6\n",
    "board_size = 50\n",
    "\n",
    "#\n",
    "fig = plt.figure(figsize=(10,10))\n",
    "\n",
    "# \n",
    "game_board = set_board(board_size=board_size, prob_tree=prob_tree)\n",
    "\n",
    "# \n",
    "plotgrid(game_board)\n",
    "\n",
    "# \n",
    "on_fire = True\n",
    "\n",
    "# Use a lovely for loop instead of a while loop\n",
    "for i in range(100):\n",
    "\n",
    "    # \n",
    "    board_size = 50\n",
    "    game_board = advance_board(game_board,50)\n",
    "    \n",
    "    # \n",
    "    plotgrid(game_board)\n",
    "    time.sleep(0.05)  # \n",
    "    clear_output(wait=True)\n",
    "    display(fig)\n",
    "    fig.clear()\n",
    "\n",
    "    # \n",
    "\n",
    "\n",
    "    # \n",
    "\n",
    "\n",
    "# \n",
    "plt.close()               "
   ]
  },
  {
   "cell_type": "code",
   "execution_count": null,
   "metadata": {
    "collapsed": true
   },
   "outputs": [],
   "source": []
  }
 ],
 "metadata": {
  "kernelspec": {
   "display_name": "Python 3",
   "language": "python",
   "name": "python3"
  },
  "language_info": {
   "codemirror_mode": {
    "name": "ipython",
    "version": 3
   },
   "file_extension": ".py",
   "mimetype": "text/x-python",
   "name": "python",
   "nbconvert_exporter": "python",
   "pygments_lexer": "ipython3",
   "version": "3.6.1"
  }
 },
 "nbformat": 4,
 "nbformat_minor": 2
}
